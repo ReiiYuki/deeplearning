{
 "cells": [
  {
   "cell_type": "code",
   "execution_count": 12,
   "metadata": {},
   "outputs": [
    {
     "name": "stdout",
     "output_type": "stream",
     "text": [
      "env: KERAS_BACKEND=tensorflow\n"
     ]
    }
   ],
   "source": [
    "from __future__ import print_function\n",
    "%env KERAS_BACKEND=tensorflow\n",
    "import keras\n",
    "from keras.models import Sequential\n",
    "from keras.layers import Dense\n",
    "from tictactoe import TicTacToeGame\n",
    "import random\n",
    "import numpy as np"
   ]
  },
  {
   "cell_type": "code",
   "execution_count": 22,
   "metadata": {},
   "outputs": [
    {
     "name": "stdout",
     "output_type": "stream",
     "text": [
      "X turn\n",
      "       |   |   \n",
      "    -----------\n",
      "       |   |   \n",
      "    -----------\n",
      "       |   |   \n",
      "         \n",
      "[0 0 0 0 0 0 0 0 0]\n",
      "move      X   \n",
      "O turn\n",
      "       |   |   \n",
      "    -----------\n",
      "       |   | X \n",
      "    -----------\n",
      "       |   |   \n",
      "     X   \n",
      "[0 0 0 0 0 1 0 0 0]\n",
      "move      X O \n",
      "X turn\n",
      "       |   |   \n",
      "    -----------\n",
      "       |   | X \n",
      "    -----------\n",
      "       | O |   \n",
      "     X O \n",
      "[0 0 0 0 0 1 0 2 0]\n",
      "move    X X O \n",
      "O turn\n",
      "       |   |   \n",
      "    -----------\n",
      "     X |   | X \n",
      "    -----------\n",
      "       | O |   \n",
      "   X X O \n",
      "[0 0 0 1 0 1 0 2 0]\n",
      "move  O X X O \n",
      "X turn\n",
      "       | O |   \n",
      "    -----------\n",
      "     X |   | X \n",
      "    -----------\n",
      "       | O |   \n",
      " O X X O \n",
      "[0 2 0 1 0 1 0 2 0]\n",
      "move  OXX X O \n",
      "O turn\n",
      "       | O | X \n",
      "    -----------\n",
      "     X |   | X \n",
      "    -----------\n",
      "       | O |   \n",
      " OXX X O \n",
      "[0 2 1 1 0 1 0 2 0]\n",
      "move  OXX XOO \n",
      "X turn\n",
      "       | O | X \n",
      "    -----------\n",
      "     X |   | X \n",
      "    -----------\n",
      "     O | O |   \n",
      " OXX XOO \n",
      "[0 2 1 1 0 1 2 2 0]\n",
      "move XOXX XOO \n",
      "O turn\n",
      "     X | O | X \n",
      "    -----------\n",
      "     X |   | X \n",
      "    -----------\n",
      "     O | O |   \n",
      "XOXX XOO \n",
      "[1 2 1 1 0 1 2 2 0]\n",
      "move XOXXOXOO \n"
     ]
    }
   ],
   "source": [
    "game = TicTacToeGame()\n",
    "\n",
    "def state_to_number(self, state):\n",
    "    return np.array(list(map(int,(state.replace('X','1').replace('O','2').replace(' ','0')))))\n",
    "\n",
    "# Agent 1\n",
    "model1 = Sequential()\n",
    "model1.add(Dense(32, input_shape=(9,)))\n",
    "model1.add(Dense(9, activation='softmax'))\n",
    "model1.compile(loss=keras.losses.categorical_crossentropy, # loss function use for calculate the amount of error\n",
    "              optimizer=keras.optimizers.Adadelta(), # optimizer for determine how to adjusting the error\n",
    "              metrics=['accuracy'])\n",
    "\n",
    "# Agent 2\n",
    "model2 = Sequential()\n",
    "model2.add(Dense(32, input_shape=(9,)))\n",
    "model2.add(Dense(9, activation='softmax'))\n",
    "model2.compile(loss=keras.losses.categorical_crossentropy, # loss function use for calculate the amount of error\n",
    "              optimizer=keras.optimizers.Adadelta(), # optimizer for determine how to adjusting the error\n",
    "              metrics=['accuracy'])\n",
    "\n",
    "while game.playable():\n",
    "    print(game.player, \"turn\")\n",
    "    game.print_board()\n",
    "    print(game.state)\n",
    "    print(state_to_number(game.state))\n",
    "    allowed_moves = [i+1 for i in range(9) if game.state[i] == ' ']\n",
    "    move = random.choice(allowed_moves)\n",
    "    print(\"move\", move)\n",
    "    game.make_move(move)\n",
    "    model.fit()"
   ]
  },
  {
   "cell_type": "code",
   "execution_count": 23,
   "metadata": {},
   "outputs": [],
   "source": []
  },
  {
   "cell_type": "code",
   "execution_count": 24,
   "metadata": {},
   "outputs": [],
   "source": []
  },
  {
   "cell_type": "markdown",
   "metadata": {},
   "source": []
  }
 ],
 "metadata": {
  "kernelspec": {
   "display_name": "Python [conda env:deep]",
   "language": "python",
   "name": "conda-env-deep-py"
  },
  "language_info": {
   "codemirror_mode": {
    "name": "ipython",
    "version": 3
   },
   "file_extension": ".py",
   "mimetype": "text/x-python",
   "name": "python",
   "nbconvert_exporter": "python",
   "pygments_lexer": "ipython3",
   "version": "3.6.4"
  }
 },
 "nbformat": 4,
 "nbformat_minor": 2
}
