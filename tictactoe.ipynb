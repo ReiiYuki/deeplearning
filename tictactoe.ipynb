{
 "cells": [
  {
   "cell_type": "code",
   "execution_count": 1,
   "metadata": {},
   "outputs": [
    {
     "name": "stdout",
     "output_type": "stream",
     "text": [
      "env: KERAS_BACKEND=tensorflow\n"
     ]
    },
    {
     "name": "stderr",
     "output_type": "stream",
     "text": [
      "C:\\Users\\wit543\\Anaconda3\\envs\\deeplearning\\lib\\site-packages\\h5py\\__init__.py:36: FutureWarning: Conversion of the second argument of issubdtype from `float` to `np.floating` is deprecated. In future, it will be treated as `np.float64 == np.dtype(float).type`.\n",
      "  from ._conv import register_converters as _register_converters\n",
      "Using TensorFlow backend.\n"
     ]
    }
   ],
   "source": [
    "from __future__ import print_function\n",
    "%env KERAS_BACKEND=tensorflow\n",
    "import keras\n",
    "from keras.models import Sequential\n",
    "from keras.layers import Dense\n",
    "from tictactoe import TicTacToeGame\n",
    "import random\n",
    "import numpy as np"
   ]
  },
  {
   "cell_type": "code",
   "execution_count": 2,
   "metadata": {},
   "outputs": [],
   "source": [
    "game = TicTacToeGame()\n",
    "\n",
    "def state_to_number( state):\n",
    "    return np.array(list(map(int,(state.replace('X','1').replace('O','2').replace(' ','0'))))).reshape((1,9))\n",
    "\n",
    "def get_move(idx):\n",
    "#     print(game.state[:idx-1])\n",
    "#     print( game.state[idx:])\n",
    "    return game.state[:idx-1] + game.player + game.state[idx:]\n",
    "\n",
    "\n",
    "\n",
    "# Agent 1\n",
    "model1 = Sequential()\n",
    "model1.add(Dense(32, input_shape=(9,)))\n",
    "model1.add(Dense(9, activation='softmax'))\n",
    "model1.compile(loss=keras.losses.categorical_crossentropy, # loss function use for calculate the amount of error\n",
    "              optimizer=keras.optimizers.Adadelta(), # optimizer for determine how to adjusting the error\n",
    "              metrics=['accuracy'])\n",
    "\n",
    "# Agent 2\n",
    "model2 = Sequential()\n",
    "model2.add(Dense(32, input_shape=(9,)))\n",
    "model2.add(Dense(9, activation='softmax'))\n",
    "model2.compile(loss=keras.losses.categorical_crossentropy, # loss function use for calculate the amount of error\n",
    "              optimizer=keras.optimizers.Adadelta(), # optimizer for determine how to adjusting the error\n",
    "              metrics=['accuracy'])\n",
    "envs = []\n",
    "actions = []\n",
    "epochs = 1000\n",
    "for epoch in range(epochs):\n",
    "    while game.playable():\n",
    "        allowed_moves = [i+1 for i in range(9) if game.state[i] == ' ']\n",
    "        if game.player == 'X':\n",
    "            move = model1.predict(state_to_number(game.state))\n",
    "        else:\n",
    "            move = model2.predict(state_to_number(game.state))\n",
    "        m = max(move[0])\n",
    "        array = [i for i, j in enumerate(move[0]) if j == m]\n",
    "        move = array[0] +1\n",
    "        allowed_moves = [i+1 for i in range(9) if game.state[i] == ' ']\n",
    "        if move  not in array:\n",
    "            move = random.choice([i+1 for i in range(9) if game.state[i] == ' '])\n",
    "        game.make_move(move)\n",
    "        actions.append(move)\n",
    "        envs.append(state_to_number(game.state))\n",
    "    actions = keras.utils.to_categorical(np.array(actions)-1, 9)\n",
    "    if game.winner == 'X':\n",
    "        model1.fit(np.array(envs).reshape(len(envs),9),np.array(actions),batch_size=len(envs),verbose=0)\n",
    "    else:\n",
    "        model2.fit(np.array(envs).reshape(len(envs),9),np.array(actions),batch_size=len(envs),verbose=0)\n",
    "    envs = []\n",
    "    actions = []\n",
    "    game = TicTacToeGame()"
   ]
  },
  {
   "cell_type": "code",
   "execution_count": 3,
   "metadata": {},
   "outputs": [
    {
     "name": "stdout",
     "output_type": "stream",
     "text": [
      "X turn\n",
      "       |   |   \n",
      "    -----------\n",
      "       |   |   \n",
      "    -----------\n",
      "       |   |   \n",
      "O turn\n",
      "       |   |   \n",
      "    -----------\n",
      "     X |   |   \n",
      "    -----------\n",
      "       |   |   \n",
      "X turn\n",
      "       |   |   \n",
      "    -----------\n",
      "     X | O |   \n",
      "    -----------\n",
      "       |   |   \n",
      "O turn\n",
      "       |   | X \n",
      "    -----------\n",
      "     X | O |   \n",
      "    -----------\n",
      "       |   |   \n",
      "X turn\n",
      "       |   | X \n",
      "    -----------\n",
      "     X | O |   \n",
      "    -----------\n",
      "       |   | O \n",
      "O turn\n",
      "       |   | X \n",
      "    -----------\n",
      "     X | O |   \n",
      "    -----------\n",
      "       | X | O \n"
     ]
    }
   ],
   "source": [
    "# run game\n",
    "game = TicTacToeGame()\n",
    "while game.playable():\n",
    "    allowed_moves = [i+1 for i in range(9) if game.state[i] == ' ']\n",
    "    print(game.player,\"turn\")\n",
    "    game.print_board()\n",
    "    if game.player == 'X':\n",
    "        move = model1.predict(state_to_number(game.state))\n",
    "        m = max(move[0])\n",
    "        array = [i for i, j in enumerate(move[0]) if j == m]\n",
    "        move = array[0] +1\n",
    "        allowed_moves = [i+1 for i in range(9) if game.state[i] == ' ']\n",
    "        if move  not in array:\n",
    "            move = random.choice([i+1 for i in range(9) if game.state[i] == ' '])\n",
    "        game.make_move(move)\n",
    "    else:\n",
    "        allowed_moves = [i+1 for i in range(9) if game.state[i] == ' ']\n",
    "        idx = int(input('Choose move for {}, from {} : '.format(game.player, allowed_moves)))\n",
    "        if any([i==idx for i in allowed_moves]):\n",
    "            game.make_move(idx)"
   ]
  },
  {
   "cell_type": "code",
   "execution_count": null,
   "metadata": {},
   "outputs": [],
   "source": []
  },
  {
   "cell_type": "code",
   "execution_count": null,
   "metadata": {},
   "outputs": [],
   "source": []
  },
  {
   "cell_type": "markdown",
   "metadata": {},
   "source": []
  }
 ],
 "metadata": {
  "kernelspec": {
   "display_name": "Python 3",
   "language": "python",
   "name": "python3"
  },
  "language_info": {
   "codemirror_mode": {
    "name": "ipython",
    "version": 3
   },
   "file_extension": ".py",
   "mimetype": "text/x-python",
   "name": "python",
   "nbconvert_exporter": "python",
   "pygments_lexer": "ipython3",
   "version": "3.6.4"
  }
 },
 "nbformat": 4,
 "nbformat_minor": 2
}
