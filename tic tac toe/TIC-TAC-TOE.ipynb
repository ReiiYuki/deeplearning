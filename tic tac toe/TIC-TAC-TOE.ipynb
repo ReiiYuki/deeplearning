{
 "cells": [
  {
   "cell_type": "markdown",
   "metadata": {},
   "source": [
    "TIC - TAC - TOE "
   ]
  },
  {
   "cell_type": "code",
   "execution_count": null,
   "metadata": {},
   "outputs": [
    {
     "name": "stdout",
     "output_type": "stream",
     "text": [
      "env: KERAS_BACKEND=tensorflow\n"
     ]
    },
    {
     "name": "stderr",
     "output_type": "stream",
     "text": [
      "C:\\Users\\wit543\\Anaconda3\\envs\\deeplearning\\lib\\site-packages\\h5py\\__init__.py:36: FutureWarning: Conversion of the second argument of issubdtype from `float` to `np.floating` is deprecated. In future, it will be treated as `np.float64 == np.dtype(float).type`.\n",
      "  from ._conv import register_converters as _register_converters\n",
      "Using TensorFlow backend.\n",
      "C:\\Users\\wit543\\Anaconda3\\envs\\deeplearning\\lib\\site-packages\\keras\\engine\\topology.py:1271: UserWarning: Update your `Dense` call to the Keras 2 API: `Dense(input_dtype=\"float32\", trainable=True, name=\"dense_1\", activation=\"relu\", activity_regularizer=None, input_dim=None, batch_input_shape=[None, 9], units=500, kernel_initializer=\"glorot_uniform\", kernel_regularizer=None, bias_regularizer=None, kernel_constraint=None, bias_constraint=None, use_bias=True)`\n",
      "  return cls(**config)\n",
      "C:\\Users\\wit543\\Anaconda3\\envs\\deeplearning\\lib\\site-packages\\keras\\engine\\topology.py:1271: UserWarning: Update your `Dense` call to the Keras 2 API: `Dense(trainable=True, name=\"dense_2\", activation=\"relu\", activity_regularizer=None, input_dim=None, units=500, kernel_initializer=\"glorot_uniform\", kernel_regularizer=None, bias_regularizer=None, kernel_constraint=None, bias_constraint=None, use_bias=True)`\n",
      "  return cls(**config)\n",
      "C:\\Users\\wit543\\Anaconda3\\envs\\deeplearning\\lib\\site-packages\\keras\\engine\\topology.py:1271: UserWarning: Update your `Dense` call to the Keras 2 API: `Dense(trainable=True, name=\"dense_3\", activation=\"relu\", activity_regularizer=None, input_dim=None, units=500, kernel_initializer=\"glorot_uniform\", kernel_regularizer=None, bias_regularizer=None, kernel_constraint=None, bias_constraint=None, use_bias=True)`\n",
      "  return cls(**config)\n",
      "C:\\Users\\wit543\\Anaconda3\\envs\\deeplearning\\lib\\site-packages\\keras\\engine\\topology.py:1271: UserWarning: Update your `Dense` call to the Keras 2 API: `Dense(trainable=True, name=\"dense_4\", activation=\"softmax\", activity_regularizer=None, input_dim=None, units=9, kernel_initializer=\"glorot_uniform\", kernel_regularizer=None, bias_regularizer=None, kernel_constraint=None, bias_constraint=None, use_bias=True)`\n",
      "  return cls(**config)\n",
      "C:\\Users\\wit543\\Anaconda3\\envs\\deeplearning\\lib\\site-packages\\keras\\engine\\topology.py:1271: UserWarning: Update your `Dense` call to the Keras 2 API: `Dense(input_dtype=\"float32\", trainable=True, name=\"dense_5\", activation=\"relu\", activity_regularizer=None, input_dim=None, batch_input_shape=[None, 9], units=500, kernel_initializer=\"glorot_uniform\", kernel_regularizer=None, bias_regularizer=None, kernel_constraint=None, bias_constraint=None, use_bias=True)`\n",
      "  return cls(**config)\n",
      "C:\\Users\\wit543\\Anaconda3\\envs\\deeplearning\\lib\\site-packages\\keras\\engine\\topology.py:1271: UserWarning: Update your `Dense` call to the Keras 2 API: `Dense(trainable=True, name=\"dense_6\", activation=\"relu\", activity_regularizer=None, input_dim=None, units=500, kernel_initializer=\"glorot_uniform\", kernel_regularizer=None, bias_regularizer=None, kernel_constraint=None, bias_constraint=None, use_bias=True)`\n",
      "  return cls(**config)\n",
      "C:\\Users\\wit543\\Anaconda3\\envs\\deeplearning\\lib\\site-packages\\keras\\engine\\topology.py:1271: UserWarning: Update your `Dense` call to the Keras 2 API: `Dense(trainable=True, name=\"dense_7\", activation=\"relu\", activity_regularizer=None, input_dim=None, units=500, kernel_initializer=\"glorot_uniform\", kernel_regularizer=None, bias_regularizer=None, kernel_constraint=None, bias_constraint=None, use_bias=True)`\n",
      "  return cls(**config)\n",
      "C:\\Users\\wit543\\Anaconda3\\envs\\deeplearning\\lib\\site-packages\\keras\\engine\\topology.py:1271: UserWarning: Update your `Dense` call to the Keras 2 API: `Dense(trainable=True, name=\"dense_8\", activation=\"softmax\", activity_regularizer=None, input_dim=None, units=9, kernel_initializer=\"glorot_uniform\", kernel_regularizer=None, bias_regularizer=None, kernel_constraint=None, bias_constraint=None, use_bias=True)`\n",
      "  return cls(**config)\n"
     ]
    },
    {
     "name": "stdout",
     "output_type": "stream",
     "text": [
      "Moves:\n",
      "-------------\n",
      "| 1 | 2 | 3 |\n",
      "| 4 | 5 | 6 |\n",
      "| 7 | 8 | 9 |\n",
      "-------------\n",
      "\n",
      "Your Move [O] : AI plays [X] : 5\n",
      "\n",
      "-------------\n",
      "| O |   |   | \n",
      "|   | X |   | \n",
      "|   |   |   | \n",
      "-------------\n",
      "\n",
      "Your Move [O] : AI plays [X] : 3\n",
      "\n",
      "-------------\n",
      "| O |   | X | \n",
      "|   | X |   | \n",
      "|   |   | O | \n",
      "-------------\n",
      "\n",
      "Your Move [O] : AI plays [X] : 8\n",
      "\n",
      "-------------\n",
      "| O |   | X | \n",
      "|   | X |   | \n",
      "| O | X | O | \n",
      "-------------\n",
      "\n",
      "Your Move [O] : AI plays [X] : 4\n",
      "\n",
      "-------------\n",
      "| O | O | X | \n",
      "| X | X |   | \n",
      "| O | X | O | \n",
      "-------------\n",
      "\n",
      "Your Move [O] : \n",
      "Game Over . . .\n",
      "It's a draw!\n",
      "\n",
      "-------------\n",
      "| O | O | X | \n",
      "| X | X | O | \n",
      "| O | X | O | \n",
      "-------------\n",
      "\n",
      "Your Move [O] : "
     ]
    }
   ],
   "source": [
    "%env KERAS_BACKEND=tensorflow\n",
    "import main as TTT\n",
    "TTT.run()"
   ]
  },
  {
   "cell_type": "code",
   "execution_count": null,
   "metadata": {},
   "outputs": [],
   "source": []
  }
 ],
 "metadata": {
  "kernelspec": {
   "display_name": "Python 3",
   "language": "python",
   "name": "python3"
  },
  "language_info": {
   "codemirror_mode": {
    "name": "ipython",
    "version": 3
   },
   "file_extension": ".py",
   "mimetype": "text/x-python",
   "name": "python",
   "nbconvert_exporter": "python",
   "pygments_lexer": "ipython3",
   "version": "3.6.4"
  }
 },
 "nbformat": 4,
 "nbformat_minor": 2
}
